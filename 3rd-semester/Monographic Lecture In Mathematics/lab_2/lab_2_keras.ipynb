{
  "nbformat": 4,
  "nbformat_minor": 0,
  "metadata": {
    "kernelspec": {
      "name": "python3",
      "display_name": "Python 3"
    },
    "language_info": {
      "codemirror_mode": {
        "name": "ipython",
        "version": 3
      },
      "file_extension": ".py",
      "mimetype": "text/x-python",
      "name": "python",
      "nbconvert_exporter": "python",
      "pygments_lexer": "ipython3",
      "version": "3.7.4"
    },
    "colab": {
      "name": "tf.ipynb",
      "provenance": [],
      "collapsed_sections": [],
      "toc_visible": true
    },
    "accelerator": "GPU"
  },
  "cells": [
    {
      "cell_type": "code",
      "metadata": {
        "id": "11VBeAkcthhp",
        "colab_type": "code",
        "outputId": "6fd3e3da-2e86-4f46-aa30-2fb7e4bb2b13",
        "colab": {
          "base_uri": "https://localhost:8080/",
          "height": 54
        }
      },
      "source": [
        "import tensorflow as tf\n",
        "from tensorflow import keras\n",
        "from tensorflow.keras.models import Sequential\n",
        "from tensorflow.keras.layers import Dense, Activation, Flatten\n",
        "from tensorflow.keras.layers import Conv2D, MaxPooling2D\n",
        "from tensorflow.keras.callbacks import ModelCheckpoint\n",
        "import numpy as np\n",
        "import os\n",
        "import pywt\n",
        "import pywt.data\n",
        "import matplotlib.pyplot as plt\n",
        "\n",
        "def load_y_data(y_path):\n",
        "    y = np.loadtxt(y_path, dtype=np.int32).reshape(-1,1)\n",
        "    # change labels range from 1-6 t 0-5, this enables a sparse_categorical_crossentropy loss function\n",
        "    return y - 1\n",
        "\n",
        "file_y_train = \"/content/drive/My Drive/Colab Notebooks/Programming/BDA-2ndSemester/3rd-semester/Monographic Lecture In Mathematics/Problem 2/test/y_test.txt\"\n",
        "file_y_test = \"/content/drive/My Drive/Colab Notebooks/Programming/BDA-2ndSemester/3rd-semester/Monographic Lecture In Mathematics/Problem 2/train/y_train.txt\"\n",
        "y_train = load_y_data(file_y_train)\n",
        "y_test = load_y_data(file_y_test)\n",
        "\n",
        "def build_cnn_model(activation, input_shape):\n",
        "    model = Sequential()\n",
        "    \n",
        "    # 2 Convolution layer with Max polling\n",
        "    model.add(Conv2D(5, 5, activation = activation, padding = 'same', input_shape = input_shape))\n",
        "    model.add(MaxPooling2D())\n",
        "    model.add(Conv2D(5, 5, activation = activation, padding = 'same', kernel_initializer = \"he_normal\"))\n",
        "    model.add(MaxPooling2D())  \n",
        "    model.add(Flatten())\n",
        "    \n",
        "    # 3 Full connected layer\n",
        "    model.add(Dense(128, activation = activation, kernel_initializer = \"he_normal\"))\n",
        "    model.add(Dense(54, activation = activation, kernel_initializer = \"he_normal\"))\n",
        "    model.add(Dense(6, activation = 'softmax')) # 6 classes\n",
        "    \n",
        "    # summarize the model\n",
        "    print(model.summary())\n",
        "    return model\n",
        "\n",
        "def compile_and_fit_model(model, X_train, y_train, X_test, y_test, batch_size, n_epochs):\n",
        "\n",
        "    # compile the model\n",
        "    model.compile(\n",
        "        optimizer=tf.keras.optimizers.Adam(),\n",
        "        loss='sparse_categorical_crossentropy',\n",
        "        metrics=['sparse_categorical_accuracy'])\n",
        "    \n",
        "    # define callbacks\n",
        "    callbacks = [ModelCheckpoint(filepath='best_model.h5', monitor='val_sparse_categorical_accuracy', save_best_only=True)]\n",
        "    \n",
        "    # fit the model\n",
        "    history = model.fit(x=X_train,\n",
        "                        y=y_train,\n",
        "                        batch_size=batch_size,\n",
        "                        epochs=n_epochs,\n",
        "                        verbose=1,\n",
        "                        callbacks=callbacks,\n",
        "                        validation_data=(X_test, y_test))\n",
        "    \n",
        "    return model, history\n",
        "\n",
        "# shape of the input image\n",
        "direc = \"C:/Users/mator/Desktop/Programming/BDA-2ndSemester/3rd-semester/Monographic Lecture In Mathematics\"\n",
        "\n",
        "print(\"Loading:\")\n",
        "x_train_cwt = np.load(\"/content/drive/My Drive/Colab Notebooks/Programming/BDA-2ndSemester/3rd-semester/Monographic Lecture In Mathematics/x_test_cwt.npy\")\n",
        "print(\"50%\")\n",
        "x_test_cwt = np.load(\"/content/drive/My Drive/Colab Notebooks/Programming/BDA-2ndSemester/3rd-semester/Monographic Lecture In Mathematics/x_train_cwt.npy\")\n",
        "print(\"done\")\n",
        "LABEL_NAMES = [\"Walking\", \"Walking upstairs\", \"Walking downstairs\", \"Sitting\", \"Standing\", \"Laying\"]\n",
        "\n"
      ],
      "execution_count": 0,
      "outputs": [
        {
          "output_type": "stream",
          "text": [
            "Loading:\n",
            "50%\n"
          ],
          "name": "stdout"
        }
      ]
    },
    {
      "cell_type": "code",
      "metadata": {
        "id": "qE8rCdN8vEuw",
        "colab_type": "code",
        "outputId": "64b71c0b-4f4d-4652-9eb0-267cfad176c7",
        "colab": {
          "base_uri": "https://localhost:8080/",
          "height": 129
        }
      },
      "source": [
        "from google.colab import drive\n",
        "drive.mount('/content/drive')"
      ],
      "execution_count": 2,
      "outputs": [
        {
          "output_type": "stream",
          "text": [
            "Go to this URL in a browser: https://accounts.google.com/o/oauth2/auth?client_id=947318989803-6bn6qk8qdgf4n4g3pfee6491hc0brc4i.apps.googleusercontent.com&redirect_uri=urn%3aietf%3awg%3aoauth%3a2.0%3aoob&response_type=code&scope=email%20https%3a%2f%2fwww.googleapis.com%2fauth%2fdocs.test%20https%3a%2f%2fwww.googleapis.com%2fauth%2fdrive%20https%3a%2f%2fwww.googleapis.com%2fauth%2fdrive.photos.readonly%20https%3a%2f%2fwww.googleapis.com%2fauth%2fpeopleapi.readonly\n",
            "\n",
            "Enter your authorization code:\n",
            "··········\n",
            "Mounted at /content/drive\n"
          ],
          "name": "stdout"
        }
      ]
    },
    {
      "cell_type": "code",
      "metadata": {
        "id": "abX5fcdjthiE",
        "colab_type": "code",
        "outputId": "beb65374-636c-4a26-fcc5-bb8c46bb2c77",
        "colab": {
          "base_uri": "https://localhost:8080/",
          "height": 869
        }
      },
      "source": [
        "input_shape = (x_train_cwt.shape[1], x_train_cwt.shape[2], x_train_cwt.shape[3])\n",
        "\n",
        "# create cnn model\n",
        "cnn_model = build_cnn_model(\"relu\", input_shape)\n",
        "# train cnn model\n",
        "trained_cnn_model, cnn_history = compile_and_fit_model(cnn_model, x_train_cwt, y_train, x_test_cwt, y_test, 368, 10)"
      ],
      "execution_count": 5,
      "outputs": [
        {
          "output_type": "stream",
          "text": [
            "Model: \"sequential\"\n",
            "_________________________________________________________________\n",
            "Layer (type)                 Output Shape              Param #   \n",
            "=================================================================\n",
            "conv2d (Conv2D)              (None, 128, 128, 64)      14464     \n",
            "_________________________________________________________________\n",
            "max_pooling2d (MaxPooling2D) (None, 64, 64, 64)        0         \n",
            "_________________________________________________________________\n",
            "conv2d_1 (Conv2D)            (None, 64, 64, 32)        51232     \n",
            "_________________________________________________________________\n",
            "max_pooling2d_1 (MaxPooling2 (None, 32, 32, 32)        0         \n",
            "_________________________________________________________________\n",
            "flatten (Flatten)            (None, 32768)             0         \n",
            "_________________________________________________________________\n",
            "dense (Dense)                (None, 128)               4194432   \n",
            "_________________________________________________________________\n",
            "dense_1 (Dense)              (None, 54)                6966      \n",
            "_________________________________________________________________\n",
            "dense_2 (Dense)              (None, 6)                 330       \n",
            "=================================================================\n",
            "Total params: 4,267,424\n",
            "Trainable params: 4,267,424\n",
            "Non-trainable params: 0\n",
            "_________________________________________________________________\n",
            "None\n",
            "Epoch 1/10\n",
            "9/9 [==============================] - 8s 936ms/step - loss: 1.0034 - sparse_categorical_accuracy: 0.6322 - val_loss: 0.6843 - val_sparse_categorical_accuracy: 0.7939\n",
            "Epoch 2/10\n",
            "9/9 [==============================] - 7s 787ms/step - loss: 0.3156 - sparse_categorical_accuracy: 0.8694 - val_loss: 0.3074 - val_sparse_categorical_accuracy: 0.8947\n",
            "Epoch 3/10\n",
            "9/9 [==============================] - 7s 787ms/step - loss: 0.1596 - sparse_categorical_accuracy: 0.9226 - val_loss: 0.2664 - val_sparse_categorical_accuracy: 0.9057\n",
            "Epoch 4/10\n",
            "9/9 [==============================] - 7s 770ms/step - loss: 0.1148 - sparse_categorical_accuracy: 0.9369 - val_loss: 0.2904 - val_sparse_categorical_accuracy: 0.8995\n",
            "Epoch 5/10\n",
            "9/9 [==============================] - 7s 771ms/step - loss: 0.1169 - sparse_categorical_accuracy: 0.9433 - val_loss: 0.3086 - val_sparse_categorical_accuracy: 0.8845\n",
            "Epoch 6/10\n",
            "9/9 [==============================] - 7s 765ms/step - loss: 0.1624 - sparse_categorical_accuracy: 0.9365 - val_loss: 1.2094 - val_sparse_categorical_accuracy: 0.7750\n",
            "Epoch 7/10\n",
            "9/9 [==============================] - 7s 780ms/step - loss: 0.5211 - sparse_categorical_accuracy: 0.9070 - val_loss: 0.5894 - val_sparse_categorical_accuracy: 0.8985\n",
            "Epoch 8/10\n",
            "9/9 [==============================] - 7s 781ms/step - loss: 0.1761 - sparse_categorical_accuracy: 0.9335 - val_loss: 1.4884 - val_sparse_categorical_accuracy: 0.7578\n",
            "Epoch 9/10\n",
            "9/9 [==============================] - 7s 769ms/step - loss: 0.3991 - sparse_categorical_accuracy: 0.8612 - val_loss: 0.7220 - val_sparse_categorical_accuracy: 0.8810\n",
            "Epoch 10/10\n",
            "9/9 [==============================] - 7s 777ms/step - loss: 0.2246 - sparse_categorical_accuracy: 0.8979 - val_loss: 0.4803 - val_sparse_categorical_accuracy: 0.8807\n"
          ],
          "name": "stdout"
        }
      ]
    },
    {
      "cell_type": "code",
      "metadata": {
        "id": "6MGnPJw3thiY",
        "colab_type": "code",
        "outputId": "f2d7c5f3-cbfd-47c9-a232-6e437011b280",
        "colab": {
          "base_uri": "https://localhost:8080/",
          "height": 295
        }
      },
      "source": [
        "plt.plot(cnn_history.history['loss'])\n",
        "plt.plot(cnn_history.history['val_loss'])\n",
        "plt.title('Model - Loss')\n",
        "plt.ylabel('Loss')\n",
        "plt.xlabel('Epoch')\n",
        "plt.legend(['train', 'test'], loc='upper right')\n",
        "plt.show()"
      ],
      "execution_count": 6,
      "outputs": [
        {
          "output_type": "display_data",
          "data": {
            "image/png": "[encoded data removed]",
            "text/plain": [
              "<Figure size 432x288 with 1 Axes>"
            ]
          },
          "metadata": {
            "tags": []
          }
        }
      ]
    },
    {
      "cell_type": "code",
      "metadata": {
        "id": "VW2jg_dq55Xe",
        "colab_type": "code",
        "colab": {
          "base_uri": "https://localhost:8080/",
          "height": 247
        },
        "outputId": "a59eb86b-0f13-4238-97b8-03c9ea97e8fd"
      },
      "source": [
        "plt.plot(cnn_history.history['sparse_categorical_accuracy'])\n",
        "\n",
        "plt.plot(cnn_history.history['val_sparse_categorical_accuracy'])\n",
        "plt.title('Model - Sparse Categorical Accuracy')\n",
        "plt.ylabel('Sparse Categorical Accuracy')\n",
        "plt.xlabel('Epoch')\n",
        "plt.legend(['train', 'test'], loc='upper right')\n",
        "plt.show()"
      ],
      "execution_count": 4,
      "outputs": [
        {
          "output_type": "error",
          "ename": "NameError",
          "evalue": "ignored",
          "traceback": [
            "\u001b[0;31m---------------------------------------------------------------------------\u001b[0m",
            "\u001b[0;31mNameError\u001b[0m                                 Traceback (most recent call last)",
            "\u001b[0;32m<ipython-input-4-5d382f97494b>\u001b[0m in \u001b[0;36m<module>\u001b[0;34m()\u001b[0m\n\u001b[0;32m----> 1\u001b[0;31m \u001b[0mplt\u001b[0m\u001b[0;34m.\u001b[0m\u001b[0mplot\u001b[0m\u001b[0;34m(\u001b[0m\u001b[0mcnn_history\u001b[0m\u001b[0;34m.\u001b[0m\u001b[0mhistory\u001b[0m\u001b[0;34m[\u001b[0m\u001b[0;34m'sparse_categorical_accuracy'\u001b[0m\u001b[0;34m]\u001b[0m\u001b[0;34m)\u001b[0m\u001b[0;34m\u001b[0m\u001b[0;34m\u001b[0m\u001b[0m\n\u001b[0m\u001b[1;32m      2\u001b[0m \u001b[0;34m\u001b[0m\u001b[0m\n\u001b[1;32m      3\u001b[0m \u001b[0mplt\u001b[0m\u001b[0;34m.\u001b[0m\u001b[0mplot\u001b[0m\u001b[0;34m(\u001b[0m\u001b[0mcnn_history\u001b[0m\u001b[0;34m.\u001b[0m\u001b[0mhistory\u001b[0m\u001b[0;34m[\u001b[0m\u001b[0;34m'val_sparse_categorical_accuracy'\u001b[0m\u001b[0;34m]\u001b[0m\u001b[0;34m)\u001b[0m\u001b[0;34m\u001b[0m\u001b[0;34m\u001b[0m\u001b[0m\n\u001b[1;32m      4\u001b[0m \u001b[0mplt\u001b[0m\u001b[0;34m.\u001b[0m\u001b[0mtitle\u001b[0m\u001b[0;34m(\u001b[0m\u001b[0;34m'Model - Sparse Categorical Accuracy'\u001b[0m\u001b[0;34m)\u001b[0m\u001b[0;34m\u001b[0m\u001b[0;34m\u001b[0m\u001b[0m\n\u001b[1;32m      5\u001b[0m \u001b[0mplt\u001b[0m\u001b[0;34m.\u001b[0m\u001b[0mylabel\u001b[0m\u001b[0;34m(\u001b[0m\u001b[0;34m'Sparse Categorical Accuracy'\u001b[0m\u001b[0;34m)\u001b[0m\u001b[0;34m\u001b[0m\u001b[0;34m\u001b[0m\u001b[0m\n",
            "\u001b[0;31mNameError\u001b[0m: name 'cnn_history' is not defined"
          ]
        }
      ]
    },
    {
      "cell_type": "code",
      "metadata": {
        "id": "7IIvqjPR_zIX",
        "colab_type": "code",
        "colab": {
          "base_uri": "https://localhost:8080/",
          "height": 35
        },
        "outputId": "ba326e04-a027-4e0c-b787-ab43ef35bbfa"
      },
      "source": [
        "print(cnn_history.history.keys())"
      ],
      "execution_count": 6,
      "outputs": [
        {
          "output_type": "stream",
          "text": [
            "dict_keys(['loss', 'sparse_categorical_accuracy', 'val_loss', 'val_sparse_categorical_accuracy'])\n"
          ],
          "name": "stdout"
        }
      ]
    }
  ]
}