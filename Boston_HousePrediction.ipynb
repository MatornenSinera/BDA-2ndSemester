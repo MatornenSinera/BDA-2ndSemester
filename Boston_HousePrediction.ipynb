{
  "nbformat": 4,
  "nbformat_minor": 0,
  "metadata": {
    "colab": {
      "name": "Boston-HousePrediction.ipynb",
      "provenance": [],
      "include_colab_link": true
    },
    "kernelspec": {
      "name": "python3",
      "display_name": "Python 3"
    }
  },
  "cells": [
    {
      "cell_type": "markdown",
      "metadata": {
        "id": "view-in-github",
        "colab_type": "text"
      },
      "source": [
        "<a href=\"https://colab.research.google.com/github/MatornenSinera/BDA-2ndSemester/blob/master/Boston_HousePrediction.ipynb\" target=\"_parent\"><img src=\"https://colab.research.google.com/assets/colab-badge.svg\" alt=\"Open In Colab\"/></a>"
      ]
    },
    {
      "cell_type": "code",
      "metadata": {
        "id": "ysFZbYy8dx1f",
        "colab_type": "code",
        "colab": {
          "base_uri": "https://localhost:8080/",
          "height": 550
        },
        "outputId": "2c25a578-3e16-470b-954c-2cffbf64356a"
      },
      "source": [
        "!pip install neupy"
      ],
      "execution_count": 188,
      "outputs": [
        {
          "output_type": "stream",
          "text": [
            "Requirement already satisfied: neupy in /usr/local/lib/python3.6/dist-packages (0.8.2)\n",
            "Requirement already satisfied: matplotlib>=1.5.1 in /usr/local/lib/python3.6/dist-packages (from neupy) (3.0.3)\n",
            "Requirement already satisfied: progressbar2==3.34.3 in /usr/local/lib/python3.6/dist-packages (from neupy) (3.34.3)\n",
            "Requirement already satisfied: h5py in /usr/local/lib/python3.6/dist-packages (from neupy) (2.8.0)\n",
            "Requirement already satisfied: scipy>=0.19.0 in /usr/local/lib/python3.6/dist-packages (from neupy) (1.3.1)\n",
            "Requirement already satisfied: graphviz==0.5.1 in /usr/local/lib/python3.6/dist-packages (from neupy) (0.5.1)\n",
            "Requirement already satisfied: numpy>=1.13.3 in /usr/local/lib/python3.6/dist-packages (from neupy) (1.16.5)\n",
            "Requirement already satisfied: tensorflow<1.14.0,>=1.10.1 in /usr/local/lib/python3.6/dist-packages (from neupy) (1.13.2)\n",
            "Requirement already satisfied: python-dateutil>=2.1 in /usr/local/lib/python3.6/dist-packages (from matplotlib>=1.5.1->neupy) (2.5.3)\n",
            "Requirement already satisfied: pyparsing!=2.0.4,!=2.1.2,!=2.1.6,>=2.0.1 in /usr/local/lib/python3.6/dist-packages (from matplotlib>=1.5.1->neupy) (2.4.2)\n",
            "Requirement already satisfied: kiwisolver>=1.0.1 in /usr/local/lib/python3.6/dist-packages (from matplotlib>=1.5.1->neupy) (1.1.0)\n",
            "Requirement already satisfied: cycler>=0.10 in /usr/local/lib/python3.6/dist-packages (from matplotlib>=1.5.1->neupy) (0.10.0)\n",
            "Requirement already satisfied: python-utils>=2.1.0 in /usr/local/lib/python3.6/dist-packages (from progressbar2==3.34.3->neupy) (2.3.0)\n",
            "Requirement already satisfied: six in /usr/local/lib/python3.6/dist-packages (from h5py->neupy) (1.12.0)\n",
            "Requirement already satisfied: tensorflow-estimator<1.14.0rc0,>=1.13.0 in /usr/local/lib/python3.6/dist-packages (from tensorflow<1.14.0,>=1.10.1->neupy) (1.13.0)\n",
            "Requirement already satisfied: keras-preprocessing>=1.0.5 in /usr/local/lib/python3.6/dist-packages (from tensorflow<1.14.0,>=1.10.1->neupy) (1.1.0)\n",
            "Requirement already satisfied: keras-applications>=1.0.6 in /usr/local/lib/python3.6/dist-packages (from tensorflow<1.14.0,>=1.10.1->neupy) (1.0.8)\n",
            "Requirement already satisfied: protobuf>=3.6.1 in /usr/local/lib/python3.6/dist-packages (from tensorflow<1.14.0,>=1.10.1->neupy) (3.10.0)\n",
            "Requirement already satisfied: astor>=0.6.0 in /usr/local/lib/python3.6/dist-packages (from tensorflow<1.14.0,>=1.10.1->neupy) (0.8.0)\n",
            "Requirement already satisfied: gast>=0.2.0 in /usr/local/lib/python3.6/dist-packages (from tensorflow<1.14.0,>=1.10.1->neupy) (0.2.2)\n",
            "Requirement already satisfied: wheel>=0.26 in /usr/local/lib/python3.6/dist-packages (from tensorflow<1.14.0,>=1.10.1->neupy) (0.33.6)\n",
            "Requirement already satisfied: termcolor>=1.1.0 in /usr/local/lib/python3.6/dist-packages (from tensorflow<1.14.0,>=1.10.1->neupy) (1.1.0)\n",
            "Requirement already satisfied: grpcio>=1.8.6 in /usr/local/lib/python3.6/dist-packages (from tensorflow<1.14.0,>=1.10.1->neupy) (1.15.0)\n",
            "Requirement already satisfied: tensorboard<1.14.0,>=1.13.0 in /usr/local/lib/python3.6/dist-packages (from tensorflow<1.14.0,>=1.10.1->neupy) (1.13.1)\n",
            "Requirement already satisfied: absl-py>=0.1.6 in /usr/local/lib/python3.6/dist-packages (from tensorflow<1.14.0,>=1.10.1->neupy) (0.8.1)\n",
            "Requirement already satisfied: setuptools in /usr/local/lib/python3.6/dist-packages (from kiwisolver>=1.0.1->matplotlib>=1.5.1->neupy) (41.4.0)\n",
            "Requirement already satisfied: mock>=2.0.0 in /usr/local/lib/python3.6/dist-packages (from tensorflow-estimator<1.14.0rc0,>=1.13.0->tensorflow<1.14.0,>=1.10.1->neupy) (3.0.5)\n",
            "Requirement already satisfied: markdown>=2.6.8 in /usr/local/lib/python3.6/dist-packages (from tensorboard<1.14.0,>=1.13.0->tensorflow<1.14.0,>=1.10.1->neupy) (3.1.1)\n",
            "Requirement already satisfied: werkzeug>=0.11.15 in /usr/local/lib/python3.6/dist-packages (from tensorboard<1.14.0,>=1.13.0->tensorflow<1.14.0,>=1.10.1->neupy) (0.16.0)\n"
          ],
          "name": "stdout"
        }
      ]
    },
    {
      "cell_type": "code",
      "metadata": {
        "id": "g3Ia_PI7Ni3A",
        "colab_type": "code",
        "colab": {}
      },
      "source": [
        "\n",
        "# Import libraries necessary for this project\n",
        "import numpy as np\n",
        "import pandas as pd\n",
        "from sklearn import datasets\n",
        "\n",
        "dataset = datasets.load_boston()\n",
        "data, target = dataset.data, dataset.target\n",
        "\n"
      ],
      "execution_count": 0,
      "outputs": []
    },
    {
      "cell_type": "markdown",
      "metadata": {
        "id": "2jSQCRy_SIDm",
        "colab_type": "text"
      },
      "source": [
        "Boston house prices dataset\n",
        "---------------------------\n",
        "\n",
        "**Data Set Characteristics:**  \n",
        "\n",
        "    :Number of Instances: 506 \n",
        "\n",
        "    :Number of Attributes: 13 numeric/categorical predictive. Median Value (attribute 14) is usually the target.\n",
        "\n",
        "    :Attribute Information (in order):\n",
        "        - CRIM     per capita crime rate by town\n",
        "        - ZN       proportion of residential land zoned for lots over 25,000 sq.ft.\n",
        "        - INDUS    proportion of non-retail business acres per town\n",
        "        - CHAS     Charles River dummy variable (= 1 if tract bounds river; 0 otherwise)\n",
        "        - NOX      nitric oxides concentration (parts per 10 million)\n",
        "        - RM       average number of rooms per dwelling\n",
        "        - AGE      proportion of owner-occupied units built prior to 1940\n",
        "        - DIS      weighted distances to five Boston employment centres\n",
        "        - RAD      index of accessibility to radial highways\n",
        "        - TAX      full-value property-tax rate per $10,000\n",
        "    - PTRATIO  pupil-teacher ratio by town\n",
        "    - B        1000(Bk - 0.63)^2 where Bk is the proportion of blacks by town\n",
        "    - LSTAT    % lower status of the population\n",
        "    - MEDV     Median value of owner-occupied homes in $1000's\n",
        "        \n",
        "        \n",
        "Let's print some rows, to visualize this dataset:"
      ]
    },
    {
      "cell_type": "code",
      "metadata": {
        "id": "6eKZIbCCV1jF",
        "colab_type": "code",
        "colab": {
          "base_uri": "https://localhost:8080/",
          "height": 206
        },
        "outputId": "cdfda7ff-3b29-46e3-a0f9-0aa8a8d7bec5"
      },
      "source": [
        "def Viz(display):\n",
        "  df = pd.DataFrame(data=display['data'], columns=display['feature_names'])\n",
        "  df['MEDV'] = display['target']\n",
        "  y = df['MEDV'].copy()\n",
        "  del df['MEDV']\n",
        "  df = pd.concat((y, df), axis=1)\n",
        "  return df\n",
        "  \n",
        "Viz(dataset).head()\n"
      ],
      "execution_count": 190,
      "outputs": [
        {
          "output_type": "execute_result",
          "data": {
            "text/html": [
              "<div>\n",
              "<style scoped>\n",
              "    .dataframe tbody tr th:only-of-type {\n",
              "        vertical-align: middle;\n",
              "    }\n",
              "\n",
              "    .dataframe tbody tr th {\n",
              "        vertical-align: top;\n",
              "    }\n",
              "\n",
              "    .dataframe thead th {\n",
              "        text-align: right;\n",
              "    }\n",
              "</style>\n",
              "<table border=\"1\" class=\"dataframe\">\n",
              "  <thead>\n",
              "    <tr style=\"text-align: right;\">\n",
              "      <th></th>\n",
              "      <th>MEDV</th>\n",
              "      <th>CRIM</th>\n",
              "      <th>ZN</th>\n",
              "      <th>INDUS</th>\n",
              "      <th>CHAS</th>\n",
              "      <th>NOX</th>\n",
              "      <th>RM</th>\n",
              "      <th>AGE</th>\n",
              "      <th>DIS</th>\n",
              "      <th>RAD</th>\n",
              "      <th>TAX</th>\n",
              "      <th>PTRATIO</th>\n",
              "      <th>B</th>\n",
              "      <th>LSTAT</th>\n",
              "    </tr>\n",
              "  </thead>\n",
              "  <tbody>\n",
              "    <tr>\n",
              "      <th>0</th>\n",
              "      <td>24.0</td>\n",
              "      <td>0.00632</td>\n",
              "      <td>18.0</td>\n",
              "      <td>2.31</td>\n",
              "      <td>0.0</td>\n",
              "      <td>0.538</td>\n",
              "      <td>6.575</td>\n",
              "      <td>65.2</td>\n",
              "      <td>4.0900</td>\n",
              "      <td>1.0</td>\n",
              "      <td>296.0</td>\n",
              "      <td>15.3</td>\n",
              "      <td>396.90</td>\n",
              "      <td>4.98</td>\n",
              "    </tr>\n",
              "    <tr>\n",
              "      <th>1</th>\n",
              "      <td>21.6</td>\n",
              "      <td>0.02731</td>\n",
              "      <td>0.0</td>\n",
              "      <td>7.07</td>\n",
              "      <td>0.0</td>\n",
              "      <td>0.469</td>\n",
              "      <td>6.421</td>\n",
              "      <td>78.9</td>\n",
              "      <td>4.9671</td>\n",
              "      <td>2.0</td>\n",
              "      <td>242.0</td>\n",
              "      <td>17.8</td>\n",
              "      <td>396.90</td>\n",
              "      <td>9.14</td>\n",
              "    </tr>\n",
              "    <tr>\n",
              "      <th>2</th>\n",
              "      <td>34.7</td>\n",
              "      <td>0.02729</td>\n",
              "      <td>0.0</td>\n",
              "      <td>7.07</td>\n",
              "      <td>0.0</td>\n",
              "      <td>0.469</td>\n",
              "      <td>7.185</td>\n",
              "      <td>61.1</td>\n",
              "      <td>4.9671</td>\n",
              "      <td>2.0</td>\n",
              "      <td>242.0</td>\n",
              "      <td>17.8</td>\n",
              "      <td>392.83</td>\n",
              "      <td>4.03</td>\n",
              "    </tr>\n",
              "    <tr>\n",
              "      <th>3</th>\n",
              "      <td>33.4</td>\n",
              "      <td>0.03237</td>\n",
              "      <td>0.0</td>\n",
              "      <td>2.18</td>\n",
              "      <td>0.0</td>\n",
              "      <td>0.458</td>\n",
              "      <td>6.998</td>\n",
              "      <td>45.8</td>\n",
              "      <td>6.0622</td>\n",
              "      <td>3.0</td>\n",
              "      <td>222.0</td>\n",
              "      <td>18.7</td>\n",
              "      <td>394.63</td>\n",
              "      <td>2.94</td>\n",
              "    </tr>\n",
              "    <tr>\n",
              "      <th>4</th>\n",
              "      <td>36.2</td>\n",
              "      <td>0.06905</td>\n",
              "      <td>0.0</td>\n",
              "      <td>2.18</td>\n",
              "      <td>0.0</td>\n",
              "      <td>0.458</td>\n",
              "      <td>7.147</td>\n",
              "      <td>54.2</td>\n",
              "      <td>6.0622</td>\n",
              "      <td>3.0</td>\n",
              "      <td>222.0</td>\n",
              "      <td>18.7</td>\n",
              "      <td>396.90</td>\n",
              "      <td>5.33</td>\n",
              "    </tr>\n",
              "  </tbody>\n",
              "</table>\n",
              "</div>"
            ],
            "text/plain": [
              "   MEDV     CRIM    ZN  INDUS  CHAS  ...  RAD    TAX  PTRATIO       B  LSTAT\n",
              "0  24.0  0.00632  18.0   2.31   0.0  ...  1.0  296.0     15.3  396.90   4.98\n",
              "1  21.6  0.02731   0.0   7.07   0.0  ...  2.0  242.0     17.8  396.90   9.14\n",
              "2  34.7  0.02729   0.0   7.07   0.0  ...  2.0  242.0     17.8  392.83   4.03\n",
              "3  33.4  0.03237   0.0   2.18   0.0  ...  3.0  222.0     18.7  394.63   2.94\n",
              "4  36.2  0.06905   0.0   2.18   0.0  ...  3.0  222.0     18.7  396.90   5.33\n",
              "\n",
              "[5 rows x 14 columns]"
            ]
          },
          "metadata": {
            "tags": []
          },
          "execution_count": 190
        }
      ]
    },
    {
      "cell_type": "markdown",
      "metadata": {
        "id": "rh8oYt_7W-yi",
        "colab_type": "text"
      },
      "source": [
        "#**PREPROCESSING**\n",
        "\n",
        "There are 13 continuous attributes (including “class” attribute “MEDV”) and 1 binary-valued attribute. There are no columns that have multiple categories, which simplifies initial data processing..\n",
        "\n",
        "From the table above you can notice that every column has values in different scales. It might slow down or completely break networks convergence. In order to fix this issue, we should normalize values in every column. One of the simplest way to do it is to map every value into range between 0 and 1, where maximum value in every column will be equal to 1 and the smallest one - to 0."
      ]
    },
    {
      "cell_type": "code",
      "metadata": {
        "id": "UJvBiDUjXMcU",
        "colab_type": "code",
        "colab": {
          "base_uri": "https://localhost:8080/",
          "height": 206
        },
        "outputId": "9a46182d-85ef-4298-937e-c8160be25c18"
      },
      "source": [
        "from sklearn import preprocessing\n",
        "\n",
        "data_scaler = preprocessing.MinMaxScaler()\n",
        "target_scaler = preprocessing.MinMaxScaler()\n",
        "\n",
        "data = data_scaler.fit_transform(data)\n",
        "target = target_scaler.fit_transform(target.reshape(-1, 1))\n",
        "\n",
        "dataset.data=data\n",
        "dataset.target=target\n",
        "\n",
        "Viz(dataset).head()\n"
      ],
      "execution_count": 191,
      "outputs": [
        {
          "output_type": "execute_result",
          "data": {
            "text/html": [
              "<div>\n",
              "<style scoped>\n",
              "    .dataframe tbody tr th:only-of-type {\n",
              "        vertical-align: middle;\n",
              "    }\n",
              "\n",
              "    .dataframe tbody tr th {\n",
              "        vertical-align: top;\n",
              "    }\n",
              "\n",
              "    .dataframe thead th {\n",
              "        text-align: right;\n",
              "    }\n",
              "</style>\n",
              "<table border=\"1\" class=\"dataframe\">\n",
              "  <thead>\n",
              "    <tr style=\"text-align: right;\">\n",
              "      <th></th>\n",
              "      <th>MEDV</th>\n",
              "      <th>CRIM</th>\n",
              "      <th>ZN</th>\n",
              "      <th>INDUS</th>\n",
              "      <th>CHAS</th>\n",
              "      <th>NOX</th>\n",
              "      <th>RM</th>\n",
              "      <th>AGE</th>\n",
              "      <th>DIS</th>\n",
              "      <th>RAD</th>\n",
              "      <th>TAX</th>\n",
              "      <th>PTRATIO</th>\n",
              "      <th>B</th>\n",
              "      <th>LSTAT</th>\n",
              "    </tr>\n",
              "  </thead>\n",
              "  <tbody>\n",
              "    <tr>\n",
              "      <th>0</th>\n",
              "      <td>0.422222</td>\n",
              "      <td>0.000000</td>\n",
              "      <td>0.18</td>\n",
              "      <td>0.067815</td>\n",
              "      <td>0.0</td>\n",
              "      <td>0.314815</td>\n",
              "      <td>0.577505</td>\n",
              "      <td>0.641607</td>\n",
              "      <td>0.269203</td>\n",
              "      <td>0.000000</td>\n",
              "      <td>0.208015</td>\n",
              "      <td>0.287234</td>\n",
              "      <td>1.000000</td>\n",
              "      <td>0.089680</td>\n",
              "    </tr>\n",
              "    <tr>\n",
              "      <th>1</th>\n",
              "      <td>0.368889</td>\n",
              "      <td>0.000236</td>\n",
              "      <td>0.00</td>\n",
              "      <td>0.242302</td>\n",
              "      <td>0.0</td>\n",
              "      <td>0.172840</td>\n",
              "      <td>0.547998</td>\n",
              "      <td>0.782698</td>\n",
              "      <td>0.348962</td>\n",
              "      <td>0.043478</td>\n",
              "      <td>0.104962</td>\n",
              "      <td>0.553191</td>\n",
              "      <td>1.000000</td>\n",
              "      <td>0.204470</td>\n",
              "    </tr>\n",
              "    <tr>\n",
              "      <th>2</th>\n",
              "      <td>0.660000</td>\n",
              "      <td>0.000236</td>\n",
              "      <td>0.00</td>\n",
              "      <td>0.242302</td>\n",
              "      <td>0.0</td>\n",
              "      <td>0.172840</td>\n",
              "      <td>0.694386</td>\n",
              "      <td>0.599382</td>\n",
              "      <td>0.348962</td>\n",
              "      <td>0.043478</td>\n",
              "      <td>0.104962</td>\n",
              "      <td>0.553191</td>\n",
              "      <td>0.989737</td>\n",
              "      <td>0.063466</td>\n",
              "    </tr>\n",
              "    <tr>\n",
              "      <th>3</th>\n",
              "      <td>0.631111</td>\n",
              "      <td>0.000293</td>\n",
              "      <td>0.00</td>\n",
              "      <td>0.063050</td>\n",
              "      <td>0.0</td>\n",
              "      <td>0.150206</td>\n",
              "      <td>0.658555</td>\n",
              "      <td>0.441813</td>\n",
              "      <td>0.448545</td>\n",
              "      <td>0.086957</td>\n",
              "      <td>0.066794</td>\n",
              "      <td>0.648936</td>\n",
              "      <td>0.994276</td>\n",
              "      <td>0.033389</td>\n",
              "    </tr>\n",
              "    <tr>\n",
              "      <th>4</th>\n",
              "      <td>0.693333</td>\n",
              "      <td>0.000705</td>\n",
              "      <td>0.00</td>\n",
              "      <td>0.063050</td>\n",
              "      <td>0.0</td>\n",
              "      <td>0.150206</td>\n",
              "      <td>0.687105</td>\n",
              "      <td>0.528321</td>\n",
              "      <td>0.448545</td>\n",
              "      <td>0.086957</td>\n",
              "      <td>0.066794</td>\n",
              "      <td>0.648936</td>\n",
              "      <td>1.000000</td>\n",
              "      <td>0.099338</td>\n",
              "    </tr>\n",
              "  </tbody>\n",
              "</table>\n",
              "</div>"
            ],
            "text/plain": [
              "       MEDV      CRIM    ZN     INDUS  ...       TAX   PTRATIO         B     LSTAT\n",
              "0  0.422222  0.000000  0.18  0.067815  ...  0.208015  0.287234  1.000000  0.089680\n",
              "1  0.368889  0.000236  0.00  0.242302  ...  0.104962  0.553191  1.000000  0.204470\n",
              "2  0.660000  0.000236  0.00  0.242302  ...  0.104962  0.553191  0.989737  0.063466\n",
              "3  0.631111  0.000293  0.00  0.063050  ...  0.066794  0.648936  0.994276  0.033389\n",
              "4  0.693333  0.000705  0.00  0.063050  ...  0.066794  0.648936  1.000000  0.099338\n",
              "\n",
              "[5 rows x 14 columns]"
            ]
          },
          "metadata": {
            "tags": []
          },
          "execution_count": 191
        }
      ]
    },
    {
      "cell_type": "markdown",
      "metadata": {
        "id": "0Pcp5Kp5aL0r",
        "colab_type": "text"
      },
      "source": [
        "\n",
        "#Implementation: Shuffle and Split Data\n",
        "\n",
        "Next step that implementation requires is splitting the Boston housing dataset into training and testing subsets. Typically, the data is also shuffled into a random order when creating the training and testing subsets to remove any bias in the ordering of the dataset.\n",
        "\n",
        "For the code cell below, you will need to implement the following:\n",
        "\n",
        "    Use train_test_split from sklearn.cross_validation to shuffle and split the features and prices data into training and testing sets.\n",
        "        Split the data into 80% training and 20% testing.\n",
        "        Set the random_state for train_test_split to a value of your choice. This ensures results are consistent.\n",
        "    Assign the train and testing splits to X_train, X_test, y_train, and y_test.\n",
        "\n"
      ]
    },
    {
      "cell_type": "code",
      "metadata": {
        "id": "8wHEYkxAaKol",
        "colab_type": "code",
        "colab": {}
      },
      "source": [
        "from sklearn.model_selection import train_test_split\n",
        "from neupy import utils\n",
        "\n",
        "# Make sure that split between train and\n",
        "# validation datasets will be reproducible\n",
        "utils.reproducible()\n",
        "\n",
        "x_train, x_test, y_train, y_test = train_test_split(\n",
        "    # 85% of the data we will use for training\n",
        "    # and the other 15% will be used for validation\n",
        "    data, target, test_size=0.2\n",
        ")"
      ],
      "execution_count": 0,
      "outputs": []
    },
    {
      "cell_type": "markdown",
      "metadata": {
        "id": "ZeK_UnvHeWCj",
        "colab_type": "text"
      },
      "source": [
        ""
      ]
    },
    {
      "cell_type": "code",
      "metadata": {
        "id": "Yk5gmqZLdG5M",
        "colab_type": "code",
        "colab": {}
      },
      "source": [
        "from neupy.layers import *\n",
        "\n",
        "# Number of features that we want\n",
        "# to use during the training\n",
        "n_inputs = 13\n",
        "\n",
        "# Number of outputs in the network. For the house price\n",
        "# forecasting we want to predict single value per every\n",
        "# input sample.\n",
        "n_outputs = 1\n",
        "\n",
        "network = join(\n",
        "    # This layer doesn't do any computation. It just\n",
        "    # defines how many inputs network should expect.\n",
        "    Input(n_inputs),\n",
        "\n",
        "    # Hidden layer. Number of neurons can be adjusted\n",
        "    # in order to improve performance or deal with overfitting\n",
        "    Sigmoid(50),\n",
        "\n",
        "    # Sigmoid outputs values between 0 and 1 and all\n",
        "    # the prices that we want to predict has been rescaled\n",
        "    # to the same range.\n",
        "    Sigmoid(n_outputs),\n",
        ")"
      ],
      "execution_count": 0,
      "outputs": []
    },
    {
      "cell_type": "markdown",
      "metadata": {
        "id": "g2X6OVQTeWbU",
        "colab_type": "text"
      },
      "source": [
        ""
      ]
    },
    {
      "cell_type": "code",
      "metadata": {
        "id": "m5chlFrPeYaZ",
        "colab_type": "code",
        "colab": {
          "base_uri": "https://localhost:8080/",
          "height": 311
        },
        "outputId": "2cfffb07-6b8d-4b81-f1e5-096579e3d8e5"
      },
      "source": [
        "from neupy import algorithms\n",
        "\n",
        "optimizer = algorithms.LevenbergMarquardt(\n",
        "    # First argument has to be neural network\n",
        "    network,\n",
        "\n",
        "    # With this option enabled network shows its configuration\n",
        "    # before the training and its progress during the training\n",
        "    verbose=True,\n",
        "\n",
        "    # In order to avoid showing information about\n",
        "    # network training progress after every epoch we can\n",
        "    # do it less frequently, for example, every 5th epoch.\n",
        "    show_epoch=5,\n",
        ")"
      ],
      "execution_count": 194,
      "outputs": [
        {
          "output_type": "stream",
          "text": [
            "\n",
            "Main information\n",
            "\n",
            "[ALGORITHM] LevenbergMarquardt\n",
            "\r\n",
            "[OPTION] loss = mse\n",
            "[OPTION] mu = 0.01\n",
            "[OPTION] mu_update_factor = 1.2\n",
            "[OPTION] show_epoch = 5\n",
            "[OPTION] shuffle_data = False\n",
            "[OPTION] signals = None\n",
            "[OPTION] target = Tensor(\"placeholder/target/sigmoid-38:0\", shape=(?, 1), dtype=float32)\n",
            "[OPTION] verbose = True\n",
            "\r\n",
            "[TENSORFLOW] Initializing Tensorflow variables and functions.\n",
            "[TENSORFLOW] Initialization finished successfully. It took 1.97 seconds\n"
          ],
          "name": "stdout"
        }
      ]
    },
    {
      "cell_type": "markdown",
      "metadata": {
        "id": "rjvkdy1JeyZb",
        "colab_type": "text"
      },
      "source": [
        ""
      ]
    },
    {
      "cell_type": "code",
      "metadata": {
        "id": "0xecMkoZey0Z",
        "colab_type": "code",
        "colab": {
          "base_uri": "https://localhost:8080/",
          "height": 629
        },
        "outputId": "8a23fdba-521b-4d10-d465-6840f96d1d7c"
      },
      "source": [
        "optimizer.train(x_train, y_train, x_test, y_test, epochs=30)\n",
        "optimizer.plot_errors()"
      ],
      "execution_count": 195,
      "outputs": [
        {
          "output_type": "stream",
          "text": [
            "\r                                                                               \r\r                                                                               \r"
          ],
          "name": "stderr"
        },
        {
          "output_type": "stream",
          "text": [
            "#1 : [752 ms] train: 0.083033, valid: 0.040856\n"
          ],
          "name": "stdout"
        },
        {
          "output_type": "stream",
          "text": [
            ""
          ],
          "name": "stderr"
        },
        {
          "output_type": "stream",
          "text": [
            "#5 : [110 ms] train: 0.009286, valid: 0.013500\n"
          ],
          "name": "stdout"
        },
        {
          "output_type": "stream",
          "text": [
            ""
          ],
          "name": "stderr"
        },
        {
          "output_type": "stream",
          "text": [
            "#10 : [109 ms] train: 0.005586, valid: 0.009535\n"
          ],
          "name": "stdout"
        },
        {
          "output_type": "stream",
          "text": [
            ""
          ],
          "name": "stderr"
        },
        {
          "output_type": "stream",
          "text": [
            "#15 : [118 ms] train: 0.004214, valid: 0.007938\n"
          ],
          "name": "stdout"
        },
        {
          "output_type": "stream",
          "text": [
            ""
          ],
          "name": "stderr"
        },
        {
          "output_type": "stream",
          "text": [
            "#20 : [111 ms] train: 0.003001, valid: 0.008084\n"
          ],
          "name": "stdout"
        },
        {
          "output_type": "stream",
          "text": [
            ""
          ],
          "name": "stderr"
        },
        {
          "output_type": "stream",
          "text": [
            "#25 : [110 ms] train: 0.002492, valid: 0.007662\n"
          ],
          "name": "stdout"
        },
        {
          "output_type": "stream",
          "text": [
            ""
          ],
          "name": "stderr"
        },
        {
          "output_type": "stream",
          "text": [
            "#30 : [108 ms] train: 0.001988, valid: 0.008319\n"
          ],
          "name": "stdout"
        },
        {
          "output_type": "display_data",
          "data": {
            "image/png": "[encoded data removed]",
            "text/plain": [
              "<Figure size 864x576 with 1 Axes>"
            ]
          },
          "metadata": {
            "tags": []
          }
        }
      ]
    },
    {
      "cell_type": "code",
      "metadata": {
        "id": "bP5GT0EXhEvz",
        "colab_type": "code",
        "colab": {
          "base_uri": "https://localhost:8080/",
          "height": 476
        },
        "outputId": "f1647dcc-3cf5-4632-86d3-958fadc59984"
      },
      "source": [
        "import numpy as np\n",
        "\n",
        "dataset = datasets.load_boston()\n",
        "data, target = dataset.data, dataset.target\n",
        "data_scaler = preprocessing.MinMaxScaler()\n",
        "data=np.vstack((data, [[0.127, 0.0, 2.41, 0, 0.135, 7.350, 40, 3.11, 1, 210, 11, 373, 6.78],[0.107, 1.0, 3.88, 0, 0.245, 6.350, 70, 1.53, 4, 250, 19, 343, 6.78]]))\n",
        "print(data)\n",
        "data = data_scaler.fit_transform(data)\n",
        "print(data)\n",
        "print(data[-1])\n",
        "y_predict = network.predict(data[-2:]).round(1)\n",
        "\n",
        "y_predict = target_scaler.inverse_transform(y_predict)\n",
        "print(y_predict)  "
      ],
      "execution_count": 241,
      "outputs": [
        {
          "output_type": "stream",
          "text": [
            "[[6.3200e-03 1.8000e+01 2.3100e+00 ... 1.5300e+01 3.9690e+02 4.9800e+00]\n",
            " [2.7310e-02 0.0000e+00 7.0700e+00 ... 1.7800e+01 3.9690e+02 9.1400e+00]\n",
            " [2.7290e-02 0.0000e+00 7.0700e+00 ... 1.7800e+01 3.9283e+02 4.0300e+00]\n",
            " ...\n",
            " [4.7410e-02 0.0000e+00 1.1930e+01 ... 2.1000e+01 3.9690e+02 7.8800e+00]\n",
            " [1.2700e-01 0.0000e+00 2.4100e+00 ... 1.1000e+01 3.7300e+02 6.7800e+00]\n",
            " [1.0700e-01 1.0000e+00 3.8800e+00 ... 1.9000e+01 3.4300e+02 6.7800e+00]]\n",
            "[[0.00000000e+00 1.80000000e-01 6.78152493e-02 ... 3.90909091e-01\n",
            "  1.00000000e+00 8.96799117e-02]\n",
            " [2.35922539e-04 0.00000000e+00 2.42302053e-01 ... 6.18181818e-01\n",
            "  1.00000000e+00 2.04470199e-01]\n",
            " [2.35697744e-04 0.00000000e+00 2.42302053e-01 ... 6.18181818e-01\n",
            "  9.89737254e-01 6.34657837e-02]\n",
            " ...\n",
            " [4.61841693e-04 0.00000000e+00 4.20454545e-01 ... 9.09090909e-01\n",
            "  1.00000000e+00 1.69701987e-01]\n",
            " [1.35641410e-03 0.00000000e+00 7.14809384e-02 ... 0.00000000e+00\n",
            "  9.39734732e-01 1.39348786e-01]\n",
            " [1.13161893e-03 1.00000000e-02 1.25366569e-01 ... 7.27272727e-01\n",
            "  8.64087952e-01 1.39348786e-01]]\n",
            "[0.00113162 0.01       0.12536657 0.         0.14945652 0.53439356\n",
            " 0.69104016 0.03641026 0.13043478 0.12022901 0.72727273 0.86408795\n",
            " 0.13934879]\n",
            "[[45.5]\n",
            " [32. ]]\n"
          ],
          "name": "stdout"
        },
        {
          "output_type": "stream",
          "text": [
            "\r                                                                               \r"
          ],
          "name": "stderr"
        }
      ]
    }
  ]
}