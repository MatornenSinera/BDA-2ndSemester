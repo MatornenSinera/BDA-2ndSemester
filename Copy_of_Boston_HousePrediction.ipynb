{
  "nbformat": 4,
  "nbformat_minor": 0,
  "metadata": {
    "colab": {
      "name": "Copy of Boston-HousePrediction.ipynb",
      "provenance": [],
      "collapsed_sections": [],
      "include_colab_link": true
    },
    "kernelspec": {
      "name": "python3",
      "display_name": "Python 3"
    }
  },
  "cells": [
    {
      "cell_type": "markdown",
      "metadata": {
        "id": "view-in-github",
        "colab_type": "text"
      },
      "source": [
        "<a href=\"https://colab.research.google.com/github/MatornenSinera/BDA-2ndSemester/blob/master/Copy_of_Boston_HousePrediction.ipynb\" target=\"_parent\"><img src=\"https://colab.research.google.com/assets/colab-badge.svg\" alt=\"Open In Colab\"/></a>"
      ]
    },
    {
      "cell_type": "code",
      "metadata": {
        "id": "ysFZbYy8dx1f",
        "colab_type": "code",
        "colab": {}
      },
      "source": [
        "!pip install neupy"
      ],
      "execution_count": 0,
      "outputs": []
    },
    {
      "cell_type": "code",
      "metadata": {
        "id": "g3Ia_PI7Ni3A",
        "colab_type": "code",
        "colab": {}
      },
      "source": [
        "\n",
        "# Import libraries necessary for this project\n",
        "import numpy as np\n",
        "import pandas as pd\n",
        "from sklearn import datasets\n",
        "\n",
        "dataset = datasets.load_boston()\n",
        "data, target = dataset.data, dataset.target\n",
        "print(dataset.DESCR)\n",
        "\n"
      ],
      "execution_count": 0,
      "outputs": []
    },
    {
      "cell_type": "markdown",
      "metadata": {
        "id": "2jSQCRy_SIDm",
        "colab_type": "text"
      },
      "source": [
        "Boston house prices dataset\n",
        "---------------------------\n",
        "\n",
        "**Data Set Characteristics:**  \n",
        "\n",
        "    :Number of Instances: 506 \n",
        "\n",
        "    :Number of Attributes: 13 numeric/categorical predictive. Median Value (attribute 14) is usually the target.\n",
        "\n",
        "    :Attribute Information (in order):\n",
        "        - CRIM     per capita crime rate by town\n",
        "        - ZN       proportion of residential land zoned for lots over 25,000 sq.ft.\n",
        "        - INDUS    proportion of non-retail business acres per town\n",
        "        - CHAS     Charles River dummy variable (= 1 if tract bounds river; 0 otherwise)\n",
        "        - NOX      nitric oxides concentration (parts per 10 million)\n",
        "        - RM       average number of rooms per dwelling\n",
        "        - AGE      proportion of owner-occupied units built prior to 1940\n",
        "        - DIS      weighted distances to five Boston employment centres\n",
        "        - RAD      index of accessibility to radial highways\n",
        "        - TAX      full-value property-tax rate per $10,000\n",
        "    - PTRATIO  pupil-teacher ratio by town\n",
        "    - B        1000(Bk - 0.63)^2 where Bk is the proportion of blacks by town\n",
        "    - LSTAT    % lower status of the population\n",
        "    - MEDV     Median value of owner-occupied homes in $1000's\n",
        "        \n",
        "        \n",
        "\n",
        "\n",
        "Let's print some rows, to visualize this dataset:"
      ]
    },
    {
      "cell_type": "code",
      "metadata": {
        "id": "6eKZIbCCV1jF",
        "colab_type": "code",
        "outputId": "61f94efe-6abe-4d92-ce40-00d3fc502555",
        "colab": {
          "base_uri": "https://localhost:8080/",
          "height": 206
        }
      },
      "source": [
        "def BostonHousingRealEstateReport(display):\n",
        "  df = pd.DataFrame(data=display['data'], columns=display['feature_names'])\n",
        "  df['MEDV'] = display['target']\n",
        "  y = df['MEDV'].copy()\n",
        "  del df['MEDV']\n",
        "  df = pd.concat((y, df), axis=1)\n",
        "  return df\n",
        "  \n",
        "BostonHousingRealEstateReport(dataset).head()\n"
      ],
      "execution_count": 20,
      "outputs": [
        {
          "output_type": "execute_result",
          "data": {
            "text/html": [
              "<div>\n",
              "<style scoped>\n",
              "    .dataframe tbody tr th:only-of-type {\n",
              "        vertical-align: middle;\n",
              "    }\n",
              "\n",
              "    .dataframe tbody tr th {\n",
              "        vertical-align: top;\n",
              "    }\n",
              "\n",
              "    .dataframe thead th {\n",
              "        text-align: right;\n",
              "    }\n",
              "</style>\n",
              "<table border=\"1\" class=\"dataframe\">\n",
              "  <thead>\n",
              "    <tr style=\"text-align: right;\">\n",
              "      <th></th>\n",
              "      <th>MEDV</th>\n",
              "      <th>CRIM</th>\n",
              "      <th>ZN</th>\n",
              "      <th>INDUS</th>\n",
              "      <th>CHAS</th>\n",
              "      <th>NOX</th>\n",
              "      <th>RM</th>\n",
              "      <th>AGE</th>\n",
              "      <th>DIS</th>\n",
              "      <th>RAD</th>\n",
              "      <th>TAX</th>\n",
              "      <th>PTRATIO</th>\n",
              "      <th>B</th>\n",
              "      <th>LSTAT</th>\n",
              "    </tr>\n",
              "  </thead>\n",
              "  <tbody>\n",
              "    <tr>\n",
              "      <th>0</th>\n",
              "      <td>24.0</td>\n",
              "      <td>0.00632</td>\n",
              "      <td>18.0</td>\n",
              "      <td>2.31</td>\n",
              "      <td>0.0</td>\n",
              "      <td>0.538</td>\n",
              "      <td>6.575</td>\n",
              "      <td>65.2</td>\n",
              "      <td>4.0900</td>\n",
              "      <td>1.0</td>\n",
              "      <td>296.0</td>\n",
              "      <td>15.3</td>\n",
              "      <td>396.90</td>\n",
              "      <td>4.98</td>\n",
              "    </tr>\n",
              "    <tr>\n",
              "      <th>1</th>\n",
              "      <td>21.6</td>\n",
              "      <td>0.02731</td>\n",
              "      <td>0.0</td>\n",
              "      <td>7.07</td>\n",
              "      <td>0.0</td>\n",
              "      <td>0.469</td>\n",
              "      <td>6.421</td>\n",
              "      <td>78.9</td>\n",
              "      <td>4.9671</td>\n",
              "      <td>2.0</td>\n",
              "      <td>242.0</td>\n",
              "      <td>17.8</td>\n",
              "      <td>396.90</td>\n",
              "      <td>9.14</td>\n",
              "    </tr>\n",
              "    <tr>\n",
              "      <th>2</th>\n",
              "      <td>34.7</td>\n",
              "      <td>0.02729</td>\n",
              "      <td>0.0</td>\n",
              "      <td>7.07</td>\n",
              "      <td>0.0</td>\n",
              "      <td>0.469</td>\n",
              "      <td>7.185</td>\n",
              "      <td>61.1</td>\n",
              "      <td>4.9671</td>\n",
              "      <td>2.0</td>\n",
              "      <td>242.0</td>\n",
              "      <td>17.8</td>\n",
              "      <td>392.83</td>\n",
              "      <td>4.03</td>\n",
              "    </tr>\n",
              "    <tr>\n",
              "      <th>3</th>\n",
              "      <td>33.4</td>\n",
              "      <td>0.03237</td>\n",
              "      <td>0.0</td>\n",
              "      <td>2.18</td>\n",
              "      <td>0.0</td>\n",
              "      <td>0.458</td>\n",
              "      <td>6.998</td>\n",
              "      <td>45.8</td>\n",
              "      <td>6.0622</td>\n",
              "      <td>3.0</td>\n",
              "      <td>222.0</td>\n",
              "      <td>18.7</td>\n",
              "      <td>394.63</td>\n",
              "      <td>2.94</td>\n",
              "    </tr>\n",
              "    <tr>\n",
              "      <th>4</th>\n",
              "      <td>36.2</td>\n",
              "      <td>0.06905</td>\n",
              "      <td>0.0</td>\n",
              "      <td>2.18</td>\n",
              "      <td>0.0</td>\n",
              "      <td>0.458</td>\n",
              "      <td>7.147</td>\n",
              "      <td>54.2</td>\n",
              "      <td>6.0622</td>\n",
              "      <td>3.0</td>\n",
              "      <td>222.0</td>\n",
              "      <td>18.7</td>\n",
              "      <td>396.90</td>\n",
              "      <td>5.33</td>\n",
              "    </tr>\n",
              "  </tbody>\n",
              "</table>\n",
              "</div>"
            ],
            "text/plain": [
              "   MEDV     CRIM    ZN  INDUS  CHAS  ...  RAD    TAX  PTRATIO       B  LSTAT\n",
              "0  24.0  0.00632  18.0   2.31   0.0  ...  1.0  296.0     15.3  396.90   4.98\n",
              "1  21.6  0.02731   0.0   7.07   0.0  ...  2.0  242.0     17.8  396.90   9.14\n",
              "2  34.7  0.02729   0.0   7.07   0.0  ...  2.0  242.0     17.8  392.83   4.03\n",
              "3  33.4  0.03237   0.0   2.18   0.0  ...  3.0  222.0     18.7  394.63   2.94\n",
              "4  36.2  0.06905   0.0   2.18   0.0  ...  3.0  222.0     18.7  396.90   5.33\n",
              "\n",
              "[5 rows x 14 columns]"
            ]
          },
          "metadata": {
            "tags": []
          },
          "execution_count": 20
        }
      ]
    },
    {
      "cell_type": "markdown",
      "metadata": {
        "id": "rh8oYt_7W-yi",
        "colab_type": "text"
      },
      "source": [
        "#**PREPROCESSING**\n",
        "\n",
        "There are 13 continuous attributes (including “class” attribute “MEDV”) and 1 binary-valued attribute. There are no columns that have multiple categories, which simplifies initial data processing..\n",
        "\n",
        "From the table above you can notice that every column has values in different scales. It might slow down or completely break networks convergence. In order to fix this issue, we should normalize values in every column. One of the simplest way to do it is to map every value into range between 0 and 1, where maximum value in every column will be equal to 1 and the smallest one - to 0."
      ]
    },
    {
      "cell_type": "code",
      "metadata": {
        "id": "UJvBiDUjXMcU",
        "colab_type": "code",
        "outputId": "2221a04e-16e3-470d-dda6-2b871b628a7f",
        "colab": {
          "base_uri": "https://localhost:8080/",
          "height": 206
        }
      },
      "source": [
        "from sklearn import preprocessing\n",
        "\n",
        "data_scaler = preprocessing.MinMaxScaler()\n",
        "target_scaler = preprocessing.MinMaxScaler()\n",
        "\n",
        "data = data_scaler.fit_transform(data)\n",
        "target = target_scaler.fit_transform(target.reshape(-1, 1))\n",
        "\n",
        "dataset.data=data\n",
        "dataset.target=target\n",
        "\n",
        "BostonHousingRealEstateReport(dataset).head()\n"
      ],
      "execution_count": 21,
      "outputs": [
        {
          "output_type": "execute_result",
          "data": {
            "text/html": [
              "<div>\n",
              "<style scoped>\n",
              "    .dataframe tbody tr th:only-of-type {\n",
              "        vertical-align: middle;\n",
              "    }\n",
              "\n",
              "    .dataframe tbody tr th {\n",
              "        vertical-align: top;\n",
              "    }\n",
              "\n",
              "    .dataframe thead th {\n",
              "        text-align: right;\n",
              "    }\n",
              "</style>\n",
              "<table border=\"1\" class=\"dataframe\">\n",
              "  <thead>\n",
              "    <tr style=\"text-align: right;\">\n",
              "      <th></th>\n",
              "      <th>MEDV</th>\n",
              "      <th>CRIM</th>\n",
              "      <th>ZN</th>\n",
              "      <th>INDUS</th>\n",
              "      <th>CHAS</th>\n",
              "      <th>NOX</th>\n",
              "      <th>RM</th>\n",
              "      <th>AGE</th>\n",
              "      <th>DIS</th>\n",
              "      <th>RAD</th>\n",
              "      <th>TAX</th>\n",
              "      <th>PTRATIO</th>\n",
              "      <th>B</th>\n",
              "      <th>LSTAT</th>\n",
              "    </tr>\n",
              "  </thead>\n",
              "  <tbody>\n",
              "    <tr>\n",
              "      <th>0</th>\n",
              "      <td>0.422222</td>\n",
              "      <td>0.000000</td>\n",
              "      <td>0.18</td>\n",
              "      <td>0.067815</td>\n",
              "      <td>0.0</td>\n",
              "      <td>0.314815</td>\n",
              "      <td>0.577505</td>\n",
              "      <td>0.641607</td>\n",
              "      <td>0.269203</td>\n",
              "      <td>0.000000</td>\n",
              "      <td>0.208015</td>\n",
              "      <td>0.287234</td>\n",
              "      <td>1.000000</td>\n",
              "      <td>0.089680</td>\n",
              "    </tr>\n",
              "    <tr>\n",
              "      <th>1</th>\n",
              "      <td>0.368889</td>\n",
              "      <td>0.000236</td>\n",
              "      <td>0.00</td>\n",
              "      <td>0.242302</td>\n",
              "      <td>0.0</td>\n",
              "      <td>0.172840</td>\n",
              "      <td>0.547998</td>\n",
              "      <td>0.782698</td>\n",
              "      <td>0.348962</td>\n",
              "      <td>0.043478</td>\n",
              "      <td>0.104962</td>\n",
              "      <td>0.553191</td>\n",
              "      <td>1.000000</td>\n",
              "      <td>0.204470</td>\n",
              "    </tr>\n",
              "    <tr>\n",
              "      <th>2</th>\n",
              "      <td>0.660000</td>\n",
              "      <td>0.000236</td>\n",
              "      <td>0.00</td>\n",
              "      <td>0.242302</td>\n",
              "      <td>0.0</td>\n",
              "      <td>0.172840</td>\n",
              "      <td>0.694386</td>\n",
              "      <td>0.599382</td>\n",
              "      <td>0.348962</td>\n",
              "      <td>0.043478</td>\n",
              "      <td>0.104962</td>\n",
              "      <td>0.553191</td>\n",
              "      <td>0.989737</td>\n",
              "      <td>0.063466</td>\n",
              "    </tr>\n",
              "    <tr>\n",
              "      <th>3</th>\n",
              "      <td>0.631111</td>\n",
              "      <td>0.000293</td>\n",
              "      <td>0.00</td>\n",
              "      <td>0.063050</td>\n",
              "      <td>0.0</td>\n",
              "      <td>0.150206</td>\n",
              "      <td>0.658555</td>\n",
              "      <td>0.441813</td>\n",
              "      <td>0.448545</td>\n",
              "      <td>0.086957</td>\n",
              "      <td>0.066794</td>\n",
              "      <td>0.648936</td>\n",
              "      <td>0.994276</td>\n",
              "      <td>0.033389</td>\n",
              "    </tr>\n",
              "    <tr>\n",
              "      <th>4</th>\n",
              "      <td>0.693333</td>\n",
              "      <td>0.000705</td>\n",
              "      <td>0.00</td>\n",
              "      <td>0.063050</td>\n",
              "      <td>0.0</td>\n",
              "      <td>0.150206</td>\n",
              "      <td>0.687105</td>\n",
              "      <td>0.528321</td>\n",
              "      <td>0.448545</td>\n",
              "      <td>0.086957</td>\n",
              "      <td>0.066794</td>\n",
              "      <td>0.648936</td>\n",
              "      <td>1.000000</td>\n",
              "      <td>0.099338</td>\n",
              "    </tr>\n",
              "  </tbody>\n",
              "</table>\n",
              "</div>"
            ],
            "text/plain": [
              "       MEDV      CRIM    ZN     INDUS  ...       TAX   PTRATIO         B     LSTAT\n",
              "0  0.422222  0.000000  0.18  0.067815  ...  0.208015  0.287234  1.000000  0.089680\n",
              "1  0.368889  0.000236  0.00  0.242302  ...  0.104962  0.553191  1.000000  0.204470\n",
              "2  0.660000  0.000236  0.00  0.242302  ...  0.104962  0.553191  0.989737  0.063466\n",
              "3  0.631111  0.000293  0.00  0.063050  ...  0.066794  0.648936  0.994276  0.033389\n",
              "4  0.693333  0.000705  0.00  0.063050  ...  0.066794  0.648936  1.000000  0.099338\n",
              "\n",
              "[5 rows x 14 columns]"
            ]
          },
          "metadata": {
            "tags": []
          },
          "execution_count": 21
        }
      ]
    },
    {
      "cell_type": "markdown",
      "metadata": {
        "id": "0Pcp5Kp5aL0r",
        "colab_type": "text"
      },
      "source": [
        "\n",
        "#Implementation: Shuffle and Split Data\n",
        "\n",
        "Next step that implementation requires is splitting the Boston housing dataset into training and testing subsets. Typically, the data is also shuffled into a random order when creating the training and testing subsets to remove any bias in the ordering of the dataset. We are going to divide data in a 85-15 split.\n",
        "\n",
        "Data is split into X_Train set and X_Test set.\n",
        "\n",
        "Target is split into Y_Train set and Y_Test set.\n",
        "\n",
        "\n",
        "\n"
      ]
    },
    {
      "cell_type": "code",
      "metadata": {
        "id": "8wHEYkxAaKol",
        "colab_type": "code",
        "colab": {}
      },
      "source": [
        "from sklearn.model_selection import train_test_split\n",
        "from neupy import utils\n",
        "\n",
        "utils.reproducible()\n",
        "\n",
        "x_train, x_test, y_train, y_test = train_test_split(\n",
        "    data, target, test_size=0.15\n",
        ")"
      ],
      "execution_count": 0,
      "outputs": []
    },
    {
      "cell_type": "markdown",
      "metadata": {
        "id": "ZeK_UnvHeWCj",
        "colab_type": "text"
      },
      "source": [
        "Then, we should implement a neural network, which will be our model for the case. Things to specify in this example:\n",
        "\n",
        "\\# of inputs: \n",
        "13 - one starting node for each feature.\n",
        "\n",
        "\\# of outputs: 1 - one node with numerical value that predicts price of the house."
      ]
    },
    {
      "cell_type": "code",
      "metadata": {
        "id": "Yk5gmqZLdG5M",
        "colab_type": "code",
        "colab": {
          "base_uri": "https://localhost:8080/",
          "height": 35
        },
        "outputId": "18c4a9bc-263a-443d-b7e9-3689e1f79cec"
      },
      "source": [
        "from neupy.layers import *\n",
        "\n",
        "\n",
        "n_inputs = 13\n",
        "\n",
        "n_outputs = 1\n",
        "\n",
        "network = join(\n",
        "    # This layer doesn't do any computation. It just\n",
        "    # defines how many inputs network should expect.\n",
        "    Input(n_inputs),\n",
        "\n",
        "    # Hidden layer. Number of neurons can be adjusted\n",
        "    # in order to improve performance or deal with overfitting\n",
        "    Sigmoid(50),\n",
        "    \n",
        "\n",
        "    # Sigmoid outputs values between 0 and 1 and all\n",
        "    # the prices that we want to predict has been rescaled\n",
        "    # to the same range.\n",
        "    Sigmoid(n_outputs),\n",
        ")\n",
        "\n",
        "print(network)"
      ],
      "execution_count": 23,
      "outputs": [
        {
          "output_type": "stream",
          "text": [
            "(?, 13) -> [... 3 layers ...] -> (?, 1)\n"
          ],
          "name": "stdout"
        }
      ]
    },
    {
      "cell_type": "markdown",
      "metadata": {
        "id": "g2X6OVQTeWbU",
        "colab_type": "text"
      },
      "source": [
        "Other possible ways to implement activation functions inside the framework:\n",
        "\n",
        "Linear() - Linear Unit.\n",
        "\n",
        "ReLU() - Rectified Linear Unit.\n",
        "\n",
        "ELU() - Exponentian Linear Unit.\n",
        "\n",
        "Tanh() - Hyperbolic tangent.\n",
        "\n",
        "Softmax() - Normalized exponential function."
      ]
    },
    {
      "cell_type": "code",
      "metadata": {
        "id": "m5chlFrPeYaZ",
        "colab_type": "code",
        "outputId": "fa460712-7250-4573-c048-e6a5c380d373",
        "colab": {
          "base_uri": "https://localhost:8080/",
          "height": 311
        }
      },
      "source": [
        "from neupy import algorithms\n",
        "\n",
        "optimizer = algorithms.LevenbergMarquardt(\n",
        "    # First argument has to be neural network\n",
        "    network,\n",
        "\n",
        "    # With this option enabled network shows its configuration\n",
        "    # before the training and its progress during the training\n",
        "    verbose=True,\n",
        "\n",
        "    # In order to avoid showing information about\n",
        "    # network training progress after every epoch we can\n",
        "    # do it less frequently, for example, every 5th epoch.\n",
        "    show_epoch=5,\n",
        ")"
      ],
      "execution_count": 24,
      "outputs": [
        {
          "output_type": "stream",
          "text": [
            "\n",
            "Main information\n",
            "\n",
            "[ALGORITHM] LevenbergMarquardt\n",
            "\r\n",
            "[OPTION] loss = mse\n",
            "[OPTION] mu = 0.01\n",
            "[OPTION] mu_update_factor = 1.2\n",
            "[OPTION] show_epoch = 5\n",
            "[OPTION] shuffle_data = False\n",
            "[OPTION] signals = None\n",
            "[OPTION] target = Tensor(\"placeholder/target/sigmoid-8:0\", shape=(?, 1), dtype=float32)\n",
            "[OPTION] verbose = True\n",
            "\r\n",
            "[TENSORFLOW] Initializing Tensorflow variables and functions.\n",
            "[TENSORFLOW] Initialization finished successfully. It took 0.30 seconds\n"
          ],
          "name": "stdout"
        }
      ]
    },
    {
      "cell_type": "markdown",
      "metadata": {
        "id": "rjvkdy1JeyZb",
        "colab_type": "text"
      },
      "source": [
        "And finally, with combined power of data, structure and algorithm, the process of training the neural network can begin. \n",
        "\n",
        "To see the progress of our creations, we can try to plot errors, that will appear during the validation of our model, based on the Mean Square Error."
      ]
    },
    {
      "cell_type": "code",
      "metadata": {
        "id": "0xecMkoZey0Z",
        "colab_type": "code",
        "outputId": "b598ecf3-80a7-4a0e-8a66-87d157c043bf",
        "colab": {
          "base_uri": "https://localhost:8080/",
          "height": 629
        }
      },
      "source": [
        "optimizer.train(x_train, y_train, x_test, y_test, epochs=30)\n",
        "optimizer.plot_errors()"
      ],
      "execution_count": 25,
      "outputs": [
        {
          "output_type": "stream",
          "text": [
            "\r                                                                               \r\r                                                                               \r"
          ],
          "name": "stderr"
        },
        {
          "output_type": "stream",
          "text": [
            "#1 : [277 ms] train: 0.050312, valid: 0.017184\n"
          ],
          "name": "stdout"
        },
        {
          "output_type": "stream",
          "text": [
            "\r                                                                               \r\r                                                                               \r\r                                                                               \r"
          ],
          "name": "stderr"
        },
        {
          "output_type": "stream",
          "text": [
            "#5 : [98 ms] train: 0.009471, valid: 0.013863\n"
          ],
          "name": "stdout"
        },
        {
          "output_type": "stream",
          "text": [
            ""
          ],
          "name": "stderr"
        },
        {
          "output_type": "stream",
          "text": [
            "#10 : [93 ms] train: 0.008211, valid: 0.010150\n"
          ],
          "name": "stdout"
        },
        {
          "output_type": "stream",
          "text": [
            ""
          ],
          "name": "stderr"
        },
        {
          "output_type": "stream",
          "text": [
            "#15 : [96 ms] train: 0.004627, valid: 0.009570\n"
          ],
          "name": "stdout"
        },
        {
          "output_type": "stream",
          "text": [
            ""
          ],
          "name": "stderr"
        },
        {
          "output_type": "stream",
          "text": [
            "#20 : [108 ms] train: 0.003933, valid: 0.008911\n"
          ],
          "name": "stdout"
        },
        {
          "output_type": "stream",
          "text": [
            "\r                                                                               \r\r                                                                               \r\r                                                                               \r"
          ],
          "name": "stderr"
        },
        {
          "output_type": "stream",
          "text": [
            "#25 : [94 ms] train: 0.003370, valid: 0.009719\n"
          ],
          "name": "stdout"
        },
        {
          "output_type": "stream",
          "text": [
            ""
          ],
          "name": "stderr"
        },
        {
          "output_type": "stream",
          "text": [
            "#30 : [99 ms] train: 0.002499, valid: 0.009321\n"
          ],
          "name": "stdout"
        },
        {
          "output_type": "display_data",
          "data": {
            "image/png": "[encoded data removed]",
            "text/plain": [
              "<Figure size 864x576 with 1 Axes>"
            ]
          },
          "metadata": {
            "tags": []
          }
        }
      ]
    },
    {
      "cell_type": "markdown",
      "metadata": {
        "id": "Vr1gBx1ka4Z0",
        "colab_type": "text"
      },
      "source": [
        "And now, just to test the network.\n",
        "\n",
        "To use already trained neural network, we need to implement our basic example, transformed and preprocessed by the same process, which changed values of our training data.\n",
        "\n",
        "Then, we just use the .predict() function, with two custom \"houses\"."
      ]
    },
    {
      "cell_type": "code",
      "metadata": {
        "id": "bP5GT0EXhEvz",
        "colab_type": "code",
        "outputId": "c0a1f49e-ad55-4e91-e5e8-3e79a7d8ad80",
        "colab": {
          "base_uri": "https://localhost:8080/",
          "height": 90
        }
      },
      "source": [
        "import numpy as np\n",
        "\n",
        "dataset = datasets.load_boston()\n",
        "data, target = dataset.data, dataset.target\n",
        "maxval=[max(data[:,i]) for i in range(13)]\n",
        "print (maxval)\n",
        "minval=[min(data[:,i]) for i in range(13)]\n",
        "print(minval)\n",
        "data_scaler = preprocessing.MinMaxScaler()\n",
        "\n",
        "data=np.vstack((data, [[0.1, 99, 27, 0, 0.85, 8.5, 3.7, 12, 1, 700, 22, 396, 2],[88, 1.0, 27, 1, 0.425, 8, 10, 12.0, 24, 195, 14, 0.32, 37]]))\n",
        "data = data_scaler.fit_transform(data)\n",
        "y_predict = network.predict(data[-2:]).round(1)\n",
        "\n",
        "y_predict = target_scaler.inverse_transform(y_predict)\n",
        "print(y_predict)  "
      ],
      "execution_count": 75,
      "outputs": [
        {
          "output_type": "stream",
          "text": [
            "[88.9762, 100.0, 27.74, 1.0, 0.871, 8.78, 100.0, 12.1265, 24.0, 711.0, 22.0, 396.9, 37.97]\n",
            "[0.00632, 0.0, 0.46, 0.0, 0.385, 3.561, 2.9, 1.1296, 1.0, 187.0, 12.6, 0.32, 1.73]\n",
            "[[50.000004]\n",
            " [ 5.      ]]\n"
          ],
          "name": "stdout"
        },
        {
          "output_type": "stream",
          "text": [
            "\r                                                                               \r"
          ],
          "name": "stderr"
        }
      ]
    }
  ]
}